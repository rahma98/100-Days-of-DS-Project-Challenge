{
 "cells": [
  {
   "cell_type": "markdown",
   "id": "cc2c6170",
   "metadata": {},
   "source": [
    "# MNIST database (Modified National Institute of Standards and Technology database)\n",
    "\n",
    " a large database of handwritten digits that is commonly used for training various image processing systems"
   ]
  },
  {
   "cell_type": "markdown",
   "id": "fe1e3a68",
   "metadata": {},
   "source": [
    "# fashion mnist image"
   ]
  },
  {
   "cell_type": "markdown",
   "id": "4baac682",
   "metadata": {},
   "source": [
    "## import library "
   ]
  },
  {
   "cell_type": "code",
   "execution_count": 1,
   "id": "cbf3d0ee",
   "metadata": {},
   "outputs": [],
   "source": [
    "import tensorflow as tf\n",
    "import numpy as np\n",
    "import matplotlib.pyplot as plt\n",
    "%matplotlib inline"
   ]
  },
  {
   "cell_type": "markdown",
   "id": "247fdcc6",
   "metadata": {},
   "source": [
    "## import data & Split : Train/test "
   ]
  },
  {
   "cell_type": "code",
   "execution_count": 22,
   "id": "8447a9ed",
   "metadata": {},
   "outputs": [
    {
     "name": "stdout",
     "output_type": "stream",
     "text": [
      "Downloading data from https://storage.googleapis.com/tensorflow/tf-keras-datasets/train-labels-idx1-ubyte.gz\n",
      "32768/29515 [=================================] - 0s 2us/step\n",
      "40960/29515 [=========================================] - 0s 1us/step\n",
      "Downloading data from https://storage.googleapis.com/tensorflow/tf-keras-datasets/train-images-idx3-ubyte.gz\n",
      "26427392/26421880 [==============================] - 31s 1us/step\n",
      "26435584/26421880 [==============================] - 31s 1us/step\n",
      "Downloading data from https://storage.googleapis.com/tensorflow/tf-keras-datasets/t10k-labels-idx1-ubyte.gz\n",
      "16384/5148 [===============================================================================================] - 0s 0s/step\n",
      "Downloading data from https://storage.googleapis.com/tensorflow/tf-keras-datasets/t10k-images-idx3-ubyte.gz\n",
      "4423680/4422102 [==============================] - 5s 1us/step\n",
      "4431872/4422102 [==============================] - 5s 1us/step\n"
     ]
    }
   ],
   "source": [
    "from keras.datasets import fashion_mnist\n",
    "(x_train,y_train), (x_test,y_test) = fashion_mnist.load_data()"
   ]
  },
  {
   "cell_type": "code",
   "execution_count": 23,
   "id": "8559a0cf",
   "metadata": {},
   "outputs": [
    {
     "name": "stdout",
     "output_type": "stream",
     "text": [
      "Training data shape :  (60000, 28, 28) (60000,)\n",
      "Testing data shape :  (10000, 28, 28) (10000,)\n"
     ]
    }
   ],
   "source": [
    "#savoir les dimensionsdes données apprentissages et test\n",
    "print('Training data shape : ', x_train.shape, y_train.shape)\n",
    "print('Testing data shape : ', x_test.shape, y_test.shape)\n"
   ]
  },
  {
   "cell_type": "markdown",
   "id": "8e5a171f",
   "metadata": {},
   "source": [
    "##   the different categories in the database"
   ]
  },
  {
   "cell_type": "code",
   "execution_count": 24,
   "id": "44398504",
   "metadata": {},
   "outputs": [
    {
     "name": "stdout",
     "output_type": "stream",
     "text": [
      "Total number of outputs :  10\n",
      "Output classes :  [0 1 2 3 4 5 6 7 8 9]\n"
     ]
    }
   ],
   "source": [
    "# savoir les différentes catégories\n",
    "classes = np.unique(y_train)\n",
    "nClasses = len(classes)\n",
    "print('Total number of outputs : ', nClasses)\n",
    "print('Output classes : ', classes)"
   ]
  },
  {
   "cell_type": "code",
   "execution_count": 26,
   "id": "894baace",
   "metadata": {},
   "outputs": [
    {
     "data": {
      "text/plain": [
       "Text(0.5, 1.0, 'Ground Truth : 9')"
      ]
     },
     "execution_count": 26,
     "metadata": {},
     "output_type": "execute_result"
    },
    {
     "data": {
      "image/png": "[encoded data removed]",
      "text/plain": [
       "<Figure size 576x576 with 2 Axes>"
      ]
     },
     "metadata": {
      "needs_background": "light"
     },
     "output_type": "display_data"
    }
   ],
   "source": [
    "from matplotlib import pyplot as plt\n",
    "plt.figure(figsize=[8,8])\n",
    "\n",
    "# Display the first image in training data\n",
    "plt.subplot(121)\n",
    "plt.imshow(x_train[0,:,:], cmap='gray')\n",
    "plt.title(\"Ground Truth : {}\".format(y_train[0]))\n",
    "\n",
    "# Display the first image in testing data\n",
    "plt.subplot(122)\n",
    "plt.imshow(x_test[0,:,:], cmap='gray')\n",
    "plt.title(\"Ground Truth : {}\".format(y_test[0]))"
   ]
  },
  {
   "cell_type": "code",
   "execution_count": 27,
   "id": "7a9445da",
   "metadata": {},
   "outputs": [
    {
     "data": {
      "text/plain": [
       "((60000, 28, 28, 1), (10000, 28, 28, 1))"
      ]
     },
     "execution_count": 27,
     "metadata": {},
     "output_type": "execute_result"
    }
   ],
   "source": [
    "x_tr = x_train.reshape(-1, 28,28, 1)\n",
    "x_te = x_test.reshape(-1, 28,28, 1)\n",
    "x_tr.shape, x_te.shape"
   ]
  },
  {
   "cell_type": "code",
   "execution_count": 28,
   "id": "d0d0fae0",
   "metadata": {},
   "outputs": [],
   "source": [
    "x_tr = x_tr.astype('float32')\n",
    "x_te = x_te.astype('float32')\n",
    "x_tr = x_tr / 255.\n",
    "x_te = x_te / 255."
   ]
  },
  {
   "cell_type": "code",
   "execution_count": 29,
   "id": "5e97b06b",
   "metadata": {},
   "outputs": [
    {
     "name": "stdout",
     "output_type": "stream",
     "text": [
      "Original label: 9\n",
      "After conversation: [0. 0. 0. 0. 0. 0. 0. 0. 0. 1.]\n"
     ]
    }
   ],
   "source": [
    "# Change the labels from categorical to code numÃ©riques comme bit\n",
    "from keras.utils import np_utils\n",
    "y_tr_b = np_utils.to_categorical(y_train)\n",
    "y_te_b = np_utils.to_categorical(y_test)\n",
    "\n",
    "#on va afficher avant et aprÃ¨s transformation\n",
    "print('Original label:', y_train[0])\n",
    "print('After conversation:', y_tr_b[0])"
   ]
  },
  {
   "cell_type": "code",
   "execution_count": 30,
   "id": "939df159",
   "metadata": {},
   "outputs": [],
   "source": [
    "#construction du modÃ¨le cnn avec keras\n",
    "from keras.models import Sequential,Input,Model\n",
    "from keras.layers import Dense, Dropout, Flatten\n",
    "from keras.layers import Conv2D, MaxPooling2D\n",
    "from tensorflow.keras.layers import BatchNormalization\n",
    "from keras.layers.advanced_activations import LeakyReLU\n",
    "from tensorflow.keras.optimizers import SGD\n",
    "\n",
    "batch_size = 64\n",
    "epochs = 20\n",
    "num_classes = 10\n",
    "\n",
    "fashion_model = Sequential()\n",
    "fashion_model.add(Conv2D(32, kernel_size=(3, 3),input_shape=(28,28,1),padding='same'))\n",
    "fashion_model.add(LeakyReLU(alpha=0.1))\n",
    "fashion_model.add(MaxPooling2D((2, 2),padding='same'))\n",
    "fashion_model.add(Conv2D(64, (3, 3),padding='same'))\n",
    "fashion_model.add(LeakyReLU(alpha=0.1))\n",
    "fashion_model.add(MaxPooling2D(pool_size=(2, 2),padding='same'))\n",
    "fashion_model.add(Conv2D(128, (3, 3),padding='same'))\n",
    "fashion_model.add(LeakyReLU(alpha=0.1))                  \n",
    "fashion_model.add(MaxPooling2D(pool_size=(2, 2),padding='same'))\n",
    "fashion_model.add(Flatten())\n",
    "fashion_model.add(Dense(128))\n",
    "fashion_model.add(LeakyReLU(alpha=0.1))                  \n",
    "fashion_model.add(Dense(num_classes, activation='softmax'))\n",
    "\n",
    "#compiler le modÃ¨le\n",
    "fashion_model.compile(loss='categorical_crossentropy', optimizer=SGD(0.001),metrics=['accuracy'])\n"
   ]
  },
  {
   "cell_type": "code",
   "execution_count": 54,
   "id": "c74fd2ad",
   "metadata": {},
   "outputs": [
    {
     "name": "stdout",
     "output_type": "stream",
     "text": [
      "(150, 150)\n"
     ]
    },
    {
     "name": "stderr",
     "output_type": "stream",
     "text": [
      "<ipython-input-54-380d7ff11dd7>:11: DeprecationWarning: ANTIALIAS is deprecated and will be removed in Pillow 10 (2023-07-01). Use Resampling.LANCZOS instead.\n",
      "  im= image.convert('L').resize((150,150),Image.ANTIALIAS)\n"
     ]
    }
   ],
   "source": [
    "from PIL import Image\n",
    "k1=np.array([[1,0,-1],[1,0,-1],[1,0,-1]])\n",
    "#filtre moyen\n",
    "k2=np.array([[1/9,1/9,1/9],[1/9,1/9,1/9],[1/9,1/9,1/9]])\n",
    "\n",
    "#filtre sobel\n",
    "k3=np.array([[-1,0,1],[-2,0,2],[-1,0,1]])\n",
    "\n",
    "import os\n",
    "image=Image.open(os.path.join('mm.jpg'))\n",
    "im= image.convert('L').resize((150,150),Image.ANTIALIAS)\n",
    "imageArray=np.array(im,'uint8')\n",
    "\n",
    "print (imageArray.shape)\n",
    "\n",
    "\n"
   ]
  },
  {
   "cell_type": "code",
   "execution_count": 55,
   "id": "f26ed89e",
   "metadata": {},
   "outputs": [],
   "source": [
    "from scipy import signal\n",
    "imageConv1 = signal.convolve2d(imageArray,k1, boundary='symm',mode='same')\n",
    "imageConv2 = signal.convolve2d(imageArray,k2, boundary='symm',mode='same')\n",
    "imageConv3 = signal.convolve2d(imageArray,k3, boundary='symm',mode='same')"
   ]
  },
  {
   "cell_type": "code",
   "execution_count": 57,
   "id": "64d723ea",
   "metadata": {},
   "outputs": [
    {
     "data": {
      "image/png": "[encoded data removed]",
      "text/plain": [
       "<Figure size 720x720 with 4 Axes>"
      ]
     },
     "metadata": {
      "needs_background": "light"
     },
     "output_type": "display_data"
    }
   ],
   "source": [
    "plt.figure(figsize=[10,10])\n",
    "\n",
    "\n",
    "\n",
    "#display the firts image in training data\n",
    "plt.subplot(141)\n",
    "plt.imshow(imageArray,cmap='gray')\n",
    "plt.title(\"Image before conv\")\n",
    "\n",
    "\n",
    "# display the first image in testing data 1\n",
    "plt.subplot(142)\n",
    "plt.imshow(imageConv1,cmap='gray')\n",
    "plt.title(\"Image after conv avec k1\")\n",
    "\n",
    "\n",
    "\n",
    "# display the first image in testing data 2\n",
    "plt.subplot(143)\n",
    "plt.imshow(imageConv2,cmap='gray')\n",
    "plt.title(\"Image after conv avec k2\")\n",
    "\n",
    "\n",
    "\n",
    "# display the first image in testing data 3\n",
    "plt.subplot(144)\n",
    "plt.imshow(imageConv3,cmap='gray')\n",
    "plt.title(\"Image after conv avec k3\")\n",
    "\n",
    "plt.show()\n"
   ]
  },
  {
   "cell_type": "code",
   "execution_count": 58,
   "id": "cf2b4bfa",
   "metadata": {},
   "outputs": [
    {
     "name": "stdout",
     "output_type": "stream",
     "text": [
      "Epoch 1/20\n",
      "938/938 [==============================] - 22s 23ms/step - loss: 2.2662 - accuracy: 0.2051 - val_loss: 2.2166 - val_accuracy: 0.2703\n",
      "Epoch 2/20\n",
      "938/938 [==============================] - 23s 25ms/step - loss: 2.0208 - accuracy: 0.3925 - val_loss: 1.6129 - val_accuracy: 0.5810\n",
      "Epoch 3/20\n",
      "938/938 [==============================] - 23s 25ms/step - loss: 1.1256 - accuracy: 0.6469 - val_loss: 0.8937 - val_accuracy: 0.6812\n",
      "Epoch 4/20\n",
      "938/938 [==============================] - 23s 25ms/step - loss: 0.8174 - accuracy: 0.7093 - val_loss: 0.7931 - val_accuracy: 0.7104\n",
      "Epoch 5/20\n",
      "938/938 [==============================] - 23s 25ms/step - loss: 0.7398 - accuracy: 0.7372 - val_loss: 0.7477 - val_accuracy: 0.7189\n",
      "Epoch 6/20\n",
      "938/938 [==============================] - 23s 25ms/step - loss: 0.6924 - accuracy: 0.7517 - val_loss: 0.7159 - val_accuracy: 0.7260\n",
      "Epoch 7/20\n",
      "938/938 [==============================] - 23s 25ms/step - loss: 0.6622 - accuracy: 0.7592 - val_loss: 0.7002 - val_accuracy: 0.7482\n",
      "Epoch 8/20\n",
      "938/938 [==============================] - 23s 25ms/step - loss: 0.6411 - accuracy: 0.7682 - val_loss: 0.6530 - val_accuracy: 0.7675\n",
      "Epoch 9/20\n",
      "938/938 [==============================] - 23s 25ms/step - loss: 0.6188 - accuracy: 0.7775 - val_loss: 0.6349 - val_accuracy: 0.7676\n",
      "Epoch 10/20\n",
      "938/938 [==============================] - 24s 26ms/step - loss: 0.6057 - accuracy: 0.7811 - val_loss: 0.6062 - val_accuracy: 0.7787\n",
      "Epoch 11/20\n",
      "938/938 [==============================] - 24s 26ms/step - loss: 0.5901 - accuracy: 0.7879 - val_loss: 0.5998 - val_accuracy: 0.7831\n",
      "Epoch 12/20\n",
      "938/938 [==============================] - 24s 26ms/step - loss: 0.5765 - accuracy: 0.7911 - val_loss: 0.6675 - val_accuracy: 0.7348\n",
      "Epoch 13/20\n",
      "938/938 [==============================] - 24s 25ms/step - loss: 0.5664 - accuracy: 0.7944 - val_loss: 0.6002 - val_accuracy: 0.7794\n",
      "Epoch 14/20\n",
      "938/938 [==============================] - 23s 25ms/step - loss: 0.5535 - accuracy: 0.7988 - val_loss: 0.5969 - val_accuracy: 0.7774\n",
      "Epoch 15/20\n",
      "938/938 [==============================] - 24s 26ms/step - loss: 0.5407 - accuracy: 0.8052 - val_loss: 0.5655 - val_accuracy: 0.7912\n",
      "Epoch 16/20\n",
      "938/938 [==============================] - 23s 25ms/step - loss: 0.5308 - accuracy: 0.8082 - val_loss: 0.5922 - val_accuracy: 0.7852\n",
      "Epoch 17/20\n",
      "938/938 [==============================] - 23s 25ms/step - loss: 0.5200 - accuracy: 0.8122 - val_loss: 0.5444 - val_accuracy: 0.7995\n",
      "Epoch 18/20\n",
      "938/938 [==============================] - 23s 25ms/step - loss: 0.5097 - accuracy: 0.8160 - val_loss: 0.5534 - val_accuracy: 0.7902\n",
      "Epoch 19/20\n",
      "938/938 [==============================] - 23s 25ms/step - loss: 0.5002 - accuracy: 0.8209 - val_loss: 0.5794 - val_accuracy: 0.7784\n",
      "Epoch 20/20\n",
      "938/938 [==============================] - 23s 25ms/step - loss: 0.4932 - accuracy: 0.8235 - val_loss: 0.5123 - val_accuracy: 0.8144\n"
     ]
    }
   ],
   "source": [
    "#training du modÃ¨le\n",
    "fashion_train = fashion_model.fit(x_tr,y_tr_b, batch_size=batch_size,epochs=epochs,verbose=1,validation_data=(x_te, y_te_b))\n"
   ]
  },
  {
   "cell_type": "code",
   "execution_count": 59,
   "id": "699a69bb",
   "metadata": {},
   "outputs": [
    {
     "name": "stdout",
     "output_type": "stream",
     "text": [
      "313/313 [==============================] - 1s 3ms/step - loss: 0.5123 - accuracy: 0.8144\n",
      "Test loss: 0.5122905969619751\n",
      "Test accuracy: 0.8144000172615051\n"
     ]
    }
   ],
   "source": [
    "#Ã©valuation du modÃ¨le\n",
    "eval = fashion_model.evaluate(x_te, y_te_b, verbose=1)\n",
    "print('Test loss:', eval[0])\n",
    "print('Test accuracy:', eval[1])"
   ]
  },
  {
   "cell_type": "code",
   "execution_count": 60,
   "id": "1a47b2ae",
   "metadata": {},
   "outputs": [
    {
     "data": {
      "image/png": "[encoded data removed]",
      "text/plain": [
       "<Figure size 432x288 with 1 Axes>"
      ]
     },
     "metadata": {
      "needs_background": "light"
     },
     "output_type": "display_data"
    },
    {
     "data": {
      "image/png": "[encoded data removed]",
      "text/plain": [
       "<Figure size 432x288 with 1 Axes>"
      ]
     },
     "metadata": {
      "needs_background": "light"
     },
     "output_type": "display_data"
    }
   ],
   "source": [
    "#wshÃ©matisation des courbes pour teste le sous et sur apprentissages\n",
    "accuracy = fashion_train.history['accuracy']\n",
    "val_accuracy = fashion_train.history['val_accuracy']\n",
    "loss = fashion_train.history['loss']\n",
    "val_loss = fashion_train.history['val_loss']\n",
    "epochs = range(len(accuracy))\n",
    "plt.plot(epochs, accuracy, 'bo', label='Training accuracy')\n",
    "plt.plot(epochs, val_accuracy, 'b', label='Test accuracy')\n",
    "plt.title('Training and Testing accuracy')\n",
    "plt.legend()\n",
    "plt.figure()\n",
    "plt.plot(epochs, loss, 'bo', label='Training loss')\n",
    "plt.plot(epochs, val_loss, 'b', label='Validation loss')\n",
    "plt.title('Training and validation loss')\n",
    "plt.legend()\n",
    "plt.show()"
   ]
  },
  {
   "cell_type": "code",
   "execution_count": 64,
   "id": "f46305c3",
   "metadata": {},
   "outputs": [
    {
     "name": "stdout",
     "output_type": "stream",
     "text": [
      "Saved model to disk\n"
     ]
    }
   ],
   "source": [
    "#sauvegarder le modÃ¨le sous un fichier json file\n",
    "from keras.models import model_from_json\n",
    "model= fashion_model.to_json()\n",
    "with open(\"model_tr.json\", \"w\") as json_file:\n",
    "     json_file.write (model)\n",
    "     \n",
    "     \n",
    "     \n",
    "# serialize weights to HDF5\n",
    "fashion_model.save_weights(\"model_weights.h5\")\n",
    "print(\"Saved model to disk\") "
   ]
  },
  {
   "cell_type": "code",
   "execution_count": 2,
   "id": "f989a392",
   "metadata": {},
   "outputs": [],
   "source": [
    "from tensorflow.keras.models import model_from_json\n",
    "model = model_from_json(open(\"model_tr.json\", \"r\").read())\n",
    "model.load_weights('model_weights.h5')"
   ]
  },
  {
   "cell_type": "code",
   "execution_count": null,
   "id": "ec14da68",
   "metadata": {},
   "outputs": [],
   "source": []
  }
 ],
 "metadata": {
  "kernelspec": {
   "display_name": "Python 3",
   "language": "python",
   "name": "python3"
  },
  "language_info": {
   "codemirror_mode": {
    "name": "ipython",
    "version": 3
   },
   "file_extension": ".py",
   "mimetype": "text/x-python",
   "name": "python",
   "nbconvert_exporter": "python",
   "pygments_lexer": "ipython3",
   "version": "3.8.8"
  }
 },
 "nbformat": 4,
 "nbformat_minor": 5
}
