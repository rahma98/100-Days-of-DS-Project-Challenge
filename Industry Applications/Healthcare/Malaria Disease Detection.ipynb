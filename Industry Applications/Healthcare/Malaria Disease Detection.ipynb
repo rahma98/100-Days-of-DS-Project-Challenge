{
 "cells": [
  {
   "cell_type": "markdown",
   "id": "df2dd179",
   "metadata": {},
   "source": [
    "# Creating CNN Using Scratch And Transfer Learning "
   ]
  },
  {
   "cell_type": "code",
   "execution_count": 1,
   "id": "4da8bae5",
   "metadata": {},
   "outputs": [],
   "source": [
    "# import the libraries as shown below\n",
    "\n",
    "from tensorflow.keras.layers import Input, Lambda, Dense, Flatten,Conv2D\n",
    "from tensorflow.keras.models import Model\n",
    "from tensorflow.keras.applications.vgg19 import VGG19\n",
    "from tensorflow.keras.applications.resnet50 import preprocess_input\n",
    "from tensorflow.keras.preprocessing import image\n",
    "from tensorflow.keras.preprocessing.image import ImageDataGenerator,load_img\n",
    "from tensorflow.keras.models import Sequential\n",
    "import numpy as np\n",
    "from glob import glob\n",
    "import matplotlib.pyplot as plt"
   ]
  },
  {
   "cell_type": "code",
   "execution_count": 2,
   "id": "5fa1034f",
   "metadata": {},
   "outputs": [],
   "source": [
    "# re-size all the images to this\n",
    "IMAGE_SIZE = [224, 224]\n",
    "\n",
    "train_path = 'cell_images/Train'\n",
    "valid_path = 'cell_images/Test'"
   ]
  },
  {
   "cell_type": "code",
   "execution_count": 3,
   "id": "ce8cd72a",
   "metadata": {},
   "outputs": [],
   "source": [
    "# Import the Vgg 16 library as shown below and add preprocessing layer to the front of VGG\n",
    "# Here we will be using imagenet weights\n",
    "\n",
    "mobilnet = VGG19(input_shape=IMAGE_SIZE + [3], weights='imagenet', include_top=False)"
   ]
  },
  {
   "cell_type": "code",
   "execution_count": 4,
   "id": "a2ac662e",
   "metadata": {},
   "outputs": [],
   "source": [
    "# don't train existing weights\n",
    "for layer in mobilnet.layers:\n",
    "    layer.trainable = False"
   ]
  },
  {
   "cell_type": "code",
   "execution_count": 8,
   "id": "0d49a9d1",
   "metadata": {},
   "outputs": [],
   "source": [
    "  # useful for getting number of output classes\n",
    "folders = glob('Dataset/Train/*')"
   ]
  },
  {
   "cell_type": "code",
   "execution_count": 9,
   "id": "497a162b",
   "metadata": {},
   "outputs": [
    {
     "data": {
      "text/plain": [
       "['Dataset/Train\\\\Parasite', 'Dataset/Train\\\\Uninfected']"
      ]
     },
     "execution_count": 9,
     "metadata": {},
     "output_type": "execute_result"
    }
   ],
   "source": [
    "folders"
   ]
  },
  {
   "cell_type": "code",
   "execution_count": 10,
   "id": "42e575a8",
   "metadata": {},
   "outputs": [],
   "source": [
    "# our layers \n",
    "x = Flatten()(mobilnet.output)"
   ]
  },
  {
   "cell_type": "code",
   "execution_count": 11,
   "id": "ef91474e",
   "metadata": {},
   "outputs": [],
   "source": [
    "prediction = Dense(len(folders), activation='softmax')(x)\n",
    "\n",
    "# create a model object\n",
    "model = Model(inputs=mobilnet.input, outputs=prediction)"
   ]
  },
  {
   "cell_type": "code",
   "execution_count": 12,
   "id": "a0808dfd",
   "metadata": {},
   "outputs": [
    {
     "name": "stdout",
     "output_type": "stream",
     "text": [
      "Model: \"model\"\n",
      "_________________________________________________________________\n",
      " Layer (type)                Output Shape              Param #   \n",
      "=================================================================\n",
      " input_1 (InputLayer)        [(None, 224, 224, 3)]     0         \n",
      "                                                                 \n",
      " block1_conv1 (Conv2D)       (None, 224, 224, 64)      1792      \n",
      "                                                                 \n",
      " block1_conv2 (Conv2D)       (None, 224, 224, 64)      36928     \n",
      "                                                                 \n",
      " block1_pool (MaxPooling2D)  (None, 112, 112, 64)      0         \n",
      "                                                                 \n",
      " block2_conv1 (Conv2D)       (None, 112, 112, 128)     73856     \n",
      "                                                                 \n",
      " block2_conv2 (Conv2D)       (None, 112, 112, 128)     147584    \n",
      "                                                                 \n",
      " block2_pool (MaxPooling2D)  (None, 56, 56, 128)       0         \n",
      "                                                                 \n",
      " block3_conv1 (Conv2D)       (None, 56, 56, 256)       295168    \n",
      "                                                                 \n",
      " block3_conv2 (Conv2D)       (None, 56, 56, 256)       590080    \n",
      "                                                                 \n",
      " block3_conv3 (Conv2D)       (None, 56, 56, 256)       590080    \n",
      "                                                                 \n",
      " block3_conv4 (Conv2D)       (None, 56, 56, 256)       590080    \n",
      "                                                                 \n",
      " block3_pool (MaxPooling2D)  (None, 28, 28, 256)       0         \n",
      "                                                                 \n",
      " block4_conv1 (Conv2D)       (None, 28, 28, 512)       1180160   \n",
      "                                                                 \n",
      " block4_conv2 (Conv2D)       (None, 28, 28, 512)       2359808   \n",
      "                                                                 \n",
      " block4_conv3 (Conv2D)       (None, 28, 28, 512)       2359808   \n",
      "                                                                 \n",
      " block4_conv4 (Conv2D)       (None, 28, 28, 512)       2359808   \n",
      "                                                                 \n",
      " block4_pool (MaxPooling2D)  (None, 14, 14, 512)       0         \n",
      "                                                                 \n",
      " block5_conv1 (Conv2D)       (None, 14, 14, 512)       2359808   \n",
      "                                                                 \n",
      " block5_conv2 (Conv2D)       (None, 14, 14, 512)       2359808   \n",
      "                                                                 \n",
      " block5_conv3 (Conv2D)       (None, 14, 14, 512)       2359808   \n",
      "                                                                 \n",
      " block5_conv4 (Conv2D)       (None, 14, 14, 512)       2359808   \n",
      "                                                                 \n",
      " block5_pool (MaxPooling2D)  (None, 7, 7, 512)         0         \n",
      "                                                                 \n",
      " flatten (Flatten)           (None, 25088)             0         \n",
      "                                                                 \n",
      " dense (Dense)               (None, 2)                 50178     \n",
      "                                                                 \n",
      "=================================================================\n",
      "Total params: 20,074,562\n",
      "Trainable params: 50,178\n",
      "Non-trainable params: 20,024,384\n",
      "_________________________________________________________________\n"
     ]
    }
   ],
   "source": [
    "# view the structure of the model\n",
    "model.summary()"
   ]
  },
  {
   "cell_type": "code",
   "execution_count": 13,
   "id": "2a7b1742",
   "metadata": {},
   "outputs": [],
   "source": [
    "from tensorflow.keras.layers import MaxPooling2D"
   ]
  },
  {
   "cell_type": "code",
   "execution_count": 14,
   "id": "709b599b",
   "metadata": {},
   "outputs": [
    {
     "name": "stdout",
     "output_type": "stream",
     "text": [
      "Model: \"sequential\"\n",
      "_________________________________________________________________\n",
      " Layer (type)                Output Shape              Param #   \n",
      "=================================================================\n",
      " conv2d (Conv2D)             (None, 224, 224, 16)      208       \n",
      "                                                                 \n",
      " max_pooling2d (MaxPooling2D  (None, 112, 112, 16)     0         \n",
      " )                                                               \n",
      "                                                                 \n",
      " conv2d_1 (Conv2D)           (None, 112, 112, 32)      2080      \n",
      "                                                                 \n",
      " max_pooling2d_1 (MaxPooling  (None, 56, 56, 32)       0         \n",
      " 2D)                                                             \n",
      "                                                                 \n",
      " conv2d_2 (Conv2D)           (None, 56, 56, 64)        8256      \n",
      "                                                                 \n",
      " max_pooling2d_2 (MaxPooling  (None, 28, 28, 64)       0         \n",
      " 2D)                                                             \n",
      "                                                                 \n",
      " flatten_1 (Flatten)         (None, 50176)             0         \n",
      "                                                                 \n",
      " dense_1 (Dense)             (None, 500)               25088500  \n",
      "                                                                 \n",
      " dense_2 (Dense)             (None, 2)                 1002      \n",
      "                                                                 \n",
      "=================================================================\n",
      "Total params: 25,100,046\n",
      "Trainable params: 25,100,046\n",
      "Non-trainable params: 0\n",
      "_________________________________________________________________\n"
     ]
    }
   ],
   "source": [
    "### Create Model from scratch using CNN\n",
    "model=Sequential()\n",
    "model.add(Conv2D(filters=16,kernel_size=2,padding=\"same\",activation=\"relu\",input_shape=(224,224,3)))\n",
    "model.add(MaxPooling2D(pool_size=2))\n",
    "model.add(Conv2D(filters=32,kernel_size=2,padding=\"same\",activation =\"relu\"))\n",
    "model.add(MaxPooling2D(pool_size=2))\n",
    "model.add(Conv2D(filters=64,kernel_size=2,padding=\"same\",activation=\"relu\"))\n",
    "model.add(MaxPooling2D(pool_size=2))\n",
    "model.add(Flatten())\n",
    "model.add(Dense(500,activation=\"relu\"))\n",
    "model.add(Dense(2,activation=\"softmax\"))\n",
    "model.summary()"
   ]
  },
  {
   "cell_type": "code",
   "execution_count": 15,
   "id": "33dbe15b",
   "metadata": {},
   "outputs": [],
   "source": [
    "# tell the model what cost and optimization method to use\n",
    "model.compile(\n",
    "  loss='categorical_crossentropy',\n",
    "  optimizer='adam',\n",
    "  metrics=['accuracy']\n",
    ")"
   ]
  },
  {
   "cell_type": "code",
   "execution_count": 16,
   "id": "fd574a64",
   "metadata": {},
   "outputs": [],
   "source": [
    "# Use the Image Data Generator to import the images from the dataset\n",
    "from tensorflow.keras.preprocessing.image import ImageDataGenerator\n",
    "\n",
    "train_datagen = ImageDataGenerator(rescale = 1./255,\n",
    "                                   shear_range = 0.2,\n",
    "                                   zoom_range = 0.2,\n",
    "                                   horizontal_flip = True)\n",
    "\n",
    "test_datagen = ImageDataGenerator(rescale = 1./255)"
   ]
  },
  {
   "cell_type": "code",
   "execution_count": 17,
   "id": "4945797d",
   "metadata": {},
   "outputs": [
    {
     "name": "stdout",
     "output_type": "stream",
     "text": [
      "Found 416 images belonging to 2 classes.\n"
     ]
    }
   ],
   "source": [
    "# Make sure you provide the same target size as initialied for the image size\n",
    "training_set = train_datagen.flow_from_directory('Dataset/Train',\n",
    "                                                 target_size = (224, 224),\n",
    "                                                 batch_size = 32,\n",
    "                                                 class_mode = 'categorical')"
   ]
  },
  {
   "cell_type": "code",
   "execution_count": 18,
   "id": "a3a3fb85",
   "metadata": {},
   "outputs": [
    {
     "data": {
      "text/plain": [
       "<keras.preprocessing.image.DirectoryIterator at 0x1f2292391f0>"
      ]
     },
     "execution_count": 18,
     "metadata": {},
     "output_type": "execute_result"
    }
   ],
   "source": [
    "training_set"
   ]
  },
  {
   "cell_type": "code",
   "execution_count": 19,
   "id": "af8a5ff8",
   "metadata": {},
   "outputs": [
    {
     "name": "stdout",
     "output_type": "stream",
     "text": [
      "Found 134 images belonging to 2 classes.\n"
     ]
    }
   ],
   "source": [
    "test_set = test_datagen.flow_from_directory('Dataset/Test',\n",
    "                                            target_size = (224, 224),\n",
    "                                            batch_size = 32,\n",
    "                                            class_mode = 'categorical')"
   ]
  },
  {
   "cell_type": "code",
   "execution_count": 21,
   "id": "dbf6fc98",
   "metadata": {},
   "outputs": [
    {
     "name": "stderr",
     "output_type": "stream",
     "text": [
      "<ipython-input-21-69229fe26ea3>:3: UserWarning: `Model.fit_generator` is deprecated and will be removed in a future version. Please use `Model.fit`, which supports generators.\n",
      "  r = model.fit_generator(\n"
     ]
    },
    {
     "name": "stdout",
     "output_type": "stream",
     "text": [
      "Epoch 1/50\n",
      "13/13 [==============================] - 8s 569ms/step - loss: 1.7818 - accuracy: 0.4904 - val_loss: 0.6862 - val_accuracy: 0.6119\n",
      "Epoch 2/50\n",
      "13/13 [==============================] - 6s 450ms/step - loss: 0.6410 - accuracy: 0.6322 - val_loss: 0.7034 - val_accuracy: 0.5224\n",
      "Epoch 3/50\n",
      "13/13 [==============================] - 6s 455ms/step - loss: 0.5716 - accuracy: 0.7067 - val_loss: 0.9766 - val_accuracy: 0.2761\n",
      "Epoch 4/50\n",
      "13/13 [==============================] - 6s 458ms/step - loss: 0.5168 - accuracy: 0.7308 - val_loss: 0.9605 - val_accuracy: 0.3433\n",
      "Epoch 5/50\n",
      "13/13 [==============================] - 6s 450ms/step - loss: 0.5120 - accuracy: 0.7260 - val_loss: 0.9317 - val_accuracy: 0.6418\n",
      "Epoch 6/50\n",
      "13/13 [==============================] - 6s 461ms/step - loss: 0.4856 - accuracy: 0.7572 - val_loss: 0.9915 - val_accuracy: 0.3507\n",
      "Epoch 7/50\n",
      "13/13 [==============================] - 6s 460ms/step - loss: 0.4666 - accuracy: 0.7692 - val_loss: 1.0014 - val_accuracy: 0.3209\n",
      "Epoch 8/50\n",
      "13/13 [==============================] - 6s 457ms/step - loss: 0.4479 - accuracy: 0.7933 - val_loss: 1.1869 - val_accuracy: 0.3507\n",
      "Epoch 9/50\n",
      "13/13 [==============================] - 6s 462ms/step - loss: 0.4385 - accuracy: 0.7861 - val_loss: 0.9124 - val_accuracy: 0.4478\n",
      "Epoch 10/50\n",
      "13/13 [==============================] - 6s 460ms/step - loss: 0.4907 - accuracy: 0.7380 - val_loss: 0.6772 - val_accuracy: 0.5746\n",
      "Epoch 11/50\n",
      "13/13 [==============================] - 6s 471ms/step - loss: 0.4820 - accuracy: 0.7692 - val_loss: 0.8424 - val_accuracy: 0.3806\n",
      "Epoch 12/50\n",
      "13/13 [==============================] - 6s 456ms/step - loss: 0.4739 - accuracy: 0.7572 - val_loss: 0.9056 - val_accuracy: 0.4104\n",
      "Epoch 13/50\n",
      "13/13 [==============================] - 6s 464ms/step - loss: 0.3759 - accuracy: 0.8197 - val_loss: 0.8445 - val_accuracy: 0.4478\n",
      "Epoch 14/50\n",
      "13/13 [==============================] - 6s 462ms/step - loss: 0.3374 - accuracy: 0.8510 - val_loss: 0.7221 - val_accuracy: 0.6642\n",
      "Epoch 15/50\n",
      "13/13 [==============================] - 6s 460ms/step - loss: 0.3751 - accuracy: 0.8317 - val_loss: 0.8842 - val_accuracy: 0.6269\n",
      "Epoch 16/50\n",
      "13/13 [==============================] - 6s 471ms/step - loss: 0.3681 - accuracy: 0.8365 - val_loss: 0.6142 - val_accuracy: 0.6642\n",
      "Epoch 17/50\n",
      "13/13 [==============================] - 6s 472ms/step - loss: 0.3082 - accuracy: 0.8750 - val_loss: 0.7840 - val_accuracy: 0.5821\n",
      "Epoch 18/50\n",
      "13/13 [==============================] - 6s 463ms/step - loss: 0.2879 - accuracy: 0.8846 - val_loss: 0.6437 - val_accuracy: 0.5896\n",
      "Epoch 19/50\n",
      "13/13 [==============================] - 6s 464ms/step - loss: 0.2613 - accuracy: 0.8990 - val_loss: 0.6467 - val_accuracy: 0.6418\n",
      "Epoch 20/50\n",
      "13/13 [==============================] - 6s 459ms/step - loss: 0.2309 - accuracy: 0.9159 - val_loss: 0.9200 - val_accuracy: 0.5597\n",
      "Epoch 21/50\n",
      "13/13 [==============================] - 6s 459ms/step - loss: 0.2358 - accuracy: 0.9087 - val_loss: 0.5037 - val_accuracy: 0.7463\n",
      "Epoch 22/50\n",
      "13/13 [==============================] - 6s 462ms/step - loss: 0.1982 - accuracy: 0.9279 - val_loss: 0.6338 - val_accuracy: 0.6567\n",
      "Epoch 23/50\n",
      "13/13 [==============================] - 6s 463ms/step - loss: 0.2363 - accuracy: 0.9111 - val_loss: 0.5718 - val_accuracy: 0.6791\n",
      "Epoch 24/50\n",
      "13/13 [==============================] - 6s 463ms/step - loss: 0.1951 - accuracy: 0.9327 - val_loss: 0.5800 - val_accuracy: 0.7015\n",
      "Epoch 25/50\n",
      "13/13 [==============================] - 6s 460ms/step - loss: 0.1671 - accuracy: 0.9447 - val_loss: 0.6468 - val_accuracy: 0.6866\n",
      "Epoch 26/50\n",
      "13/13 [==============================] - 6s 463ms/step - loss: 0.1597 - accuracy: 0.9471 - val_loss: 0.4904 - val_accuracy: 0.7612\n",
      "Epoch 27/50\n",
      "13/13 [==============================] - 6s 458ms/step - loss: 0.1635 - accuracy: 0.9375 - val_loss: 0.4371 - val_accuracy: 0.7388\n",
      "Epoch 28/50\n",
      "13/13 [==============================] - 6s 462ms/step - loss: 0.1802 - accuracy: 0.9351 - val_loss: 0.4098 - val_accuracy: 0.7836\n",
      "Epoch 29/50\n",
      "13/13 [==============================] - 6s 463ms/step - loss: 0.1281 - accuracy: 0.9591 - val_loss: 0.3960 - val_accuracy: 0.8209\n",
      "Epoch 30/50\n",
      "13/13 [==============================] - 6s 464ms/step - loss: 0.1363 - accuracy: 0.9567 - val_loss: 0.4085 - val_accuracy: 0.7985\n",
      "Epoch 31/50\n",
      "13/13 [==============================] - 6s 467ms/step - loss: 0.2030 - accuracy: 0.9351 - val_loss: 0.4195 - val_accuracy: 0.7910\n",
      "Epoch 32/50\n",
      "13/13 [==============================] - 6s 465ms/step - loss: 0.1152 - accuracy: 0.9615 - val_loss: 0.4089 - val_accuracy: 0.7985\n",
      "Epoch 33/50\n",
      "13/13 [==============================] - 6s 472ms/step - loss: 0.1212 - accuracy: 0.9615 - val_loss: 0.4245 - val_accuracy: 0.8358\n",
      "Epoch 34/50\n",
      "13/13 [==============================] - 6s 471ms/step - loss: 0.0960 - accuracy: 0.9760 - val_loss: 0.5404 - val_accuracy: 0.7910\n",
      "Epoch 35/50\n",
      "13/13 [==============================] - 6s 457ms/step - loss: 0.1113 - accuracy: 0.9615 - val_loss: 0.3789 - val_accuracy: 0.8209\n",
      "Epoch 36/50\n",
      "13/13 [==============================] - 6s 457ms/step - loss: 0.1207 - accuracy: 0.9567 - val_loss: 0.3129 - val_accuracy: 0.8433\n",
      "Epoch 37/50\n",
      "13/13 [==============================] - 6s 451ms/step - loss: 0.1114 - accuracy: 0.9663 - val_loss: 0.6239 - val_accuracy: 0.7463\n",
      "Epoch 38/50\n",
      "13/13 [==============================] - 6s 448ms/step - loss: 0.1165 - accuracy: 0.9639 - val_loss: 0.2874 - val_accuracy: 0.8507\n",
      "Epoch 39/50\n",
      "13/13 [==============================] - 6s 456ms/step - loss: 0.0975 - accuracy: 0.9712 - val_loss: 0.4542 - val_accuracy: 0.8358\n",
      "Epoch 40/50\n",
      "13/13 [==============================] - 6s 452ms/step - loss: 0.1105 - accuracy: 0.9663 - val_loss: 0.4946 - val_accuracy: 0.8209\n",
      "Epoch 41/50\n",
      "13/13 [==============================] - 6s 450ms/step - loss: 0.0813 - accuracy: 0.9832 - val_loss: 0.3323 - val_accuracy: 0.8507\n",
      "Epoch 42/50\n",
      "13/13 [==============================] - 6s 474ms/step - loss: 0.0653 - accuracy: 0.9808 - val_loss: 0.2999 - val_accuracy: 0.8582\n",
      "Epoch 43/50\n",
      "13/13 [==============================] - 6s 464ms/step - loss: 0.0723 - accuracy: 0.9760 - val_loss: 0.2595 - val_accuracy: 0.9104\n",
      "Epoch 44/50\n",
      "13/13 [==============================] - 6s 449ms/step - loss: 0.0905 - accuracy: 0.9760 - val_loss: 0.2486 - val_accuracy: 0.8955\n",
      "Epoch 45/50\n",
      "13/13 [==============================] - 6s 452ms/step - loss: 0.0881 - accuracy: 0.9760 - val_loss: 0.3719 - val_accuracy: 0.8433\n",
      "Epoch 46/50\n",
      "13/13 [==============================] - 6s 449ms/step - loss: 0.0649 - accuracy: 0.9808 - val_loss: 0.2144 - val_accuracy: 0.9104\n",
      "Epoch 47/50\n",
      "13/13 [==============================] - 6s 454ms/step - loss: 0.0681 - accuracy: 0.9832 - val_loss: 0.4760 - val_accuracy: 0.8433\n",
      "Epoch 48/50\n",
      "13/13 [==============================] - 6s 452ms/step - loss: 0.0674 - accuracy: 0.9784 - val_loss: 0.2275 - val_accuracy: 0.9179\n",
      "Epoch 49/50\n",
      "13/13 [==============================] - 6s 451ms/step - loss: 0.1030 - accuracy: 0.9688 - val_loss: 0.4696 - val_accuracy: 0.8284\n",
      "Epoch 50/50\n",
      "13/13 [==============================] - 6s 452ms/step - loss: 0.0790 - accuracy: 0.9784 - val_loss: 0.2107 - val_accuracy: 0.9030\n"
     ]
    }
   ],
   "source": [
    "# fit the model\n",
    "# Run the cell. It will take some time to execute\n",
    "r = model.fit_generator(\n",
    "  training_set,\n",
    "  validation_data=test_set,\n",
    "  epochs=50,\n",
    "  steps_per_epoch=len(training_set),\n",
    "  validation_steps=len(test_set)\n",
    ")"
   ]
  },
  {
   "cell_type": "code",
   "execution_count": 22,
   "id": "92dcd1c7",
   "metadata": {},
   "outputs": [
    {
     "data": {
      "image/png": "[encoded data removed]",
      "text/plain": [
       "<Figure size 432x288 with 1 Axes>"
      ]
     },
     "metadata": {
      "needs_background": "light"
     },
     "output_type": "display_data"
    },
    {
     "data": {
      "image/png": "[encoded data removed]",
      "text/plain": [
       "<Figure size 432x288 with 1 Axes>"
      ]
     },
     "metadata": {
      "needs_background": "light"
     },
     "output_type": "display_data"
    },
    {
     "data": {
      "text/plain": [
       "<Figure size 432x288 with 0 Axes>"
      ]
     },
     "metadata": {},
     "output_type": "display_data"
    }
   ],
   "source": [
    "# plot the loss\n",
    "plt.plot(r.history['loss'], label='train loss')\n",
    "plt.plot(r.history['val_loss'], label='val loss')\n",
    "plt.legend()\n",
    "plt.show()\n",
    "plt.savefig('LossVal_loss')\n",
    "\n",
    "# plot the accuracy\n",
    "plt.plot(r.history['accuracy'], label='train acc')\n",
    "plt.plot(r.history['val_accuracy'], label='val acc')\n",
    "plt.legend()\n",
    "plt.show()\n",
    "plt.savefig('AccVal_acc')"
   ]
  },
  {
   "cell_type": "code",
   "execution_count": 23,
   "id": "1e4697bf",
   "metadata": {},
   "outputs": [],
   "source": [
    "# save it as a h5 file\n",
    "\n",
    "\n",
    "from tensorflow.keras.models import load_model\n",
    "\n",
    "model.save('model_vgg19.h5')"
   ]
  },
  {
   "cell_type": "code",
   "execution_count": 24,
   "id": "7eddda57",
   "metadata": {},
   "outputs": [],
   "source": [
    "y_pred = model.predict(test_set)"
   ]
  },
  {
   "cell_type": "code",
   "execution_count": 25,
   "id": "73963fdb",
   "metadata": {},
   "outputs": [
    {
     "data": {
      "text/plain": [
       "array([[2.73491114e-01, 7.26508796e-01],\n",
       "       [9.97136474e-01, 2.86352658e-03],\n",
       "       [9.95454073e-01, 4.54589585e-03],\n",
       "       [1.81570262e-01, 8.18429768e-01],\n",
       "       [1.00000000e+00, 8.99408044e-13],\n",
       "       [1.71341777e-01, 8.28658223e-01],\n",
       "       [3.56226355e-01, 6.43773556e-01],\n",
       "       [9.99772966e-01, 2.27004406e-04],\n",
       "       [9.99983191e-01, 1.67780163e-05],\n",
       "       [3.86872828e-01, 6.13127172e-01],\n",
       "       [1.00000000e+00, 5.94564646e-08],\n",
       "       [1.00000000e+00, 5.91668511e-12],\n",
       "       [9.59541142e-01, 4.04588170e-02],\n",
       "       [7.74022341e-01, 2.25977615e-01],\n",
       "       [9.99998808e-01, 1.18561877e-06],\n",
       "       [9.99940157e-01, 5.98032930e-05],\n",
       "       [6.14797771e-01, 3.85202229e-01],\n",
       "       [2.87877172e-01, 7.12122858e-01],\n",
       "       [9.90056932e-01, 9.94305871e-03],\n",
       "       [4.12286997e-01, 5.87713003e-01],\n",
       "       [2.67288387e-02, 9.73271191e-01],\n",
       "       [8.22863102e-01, 1.77136883e-01],\n",
       "       [3.39905679e-01, 6.60094321e-01],\n",
       "       [1.20101370e-01, 8.79898667e-01],\n",
       "       [9.99979973e-01, 1.99811038e-05],\n",
       "       [6.54291958e-02, 9.34570849e-01],\n",
       "       [6.77545786e-01, 3.22454244e-01],\n",
       "       [9.99831080e-01, 1.68894941e-04],\n",
       "       [9.98915315e-01, 1.08469697e-03],\n",
       "       [9.99873400e-01, 1.26543571e-04],\n",
       "       [1.00000000e+00, 5.47857679e-12],\n",
       "       [2.66945273e-01, 7.33054757e-01],\n",
       "       [9.93182480e-01, 6.81756577e-03],\n",
       "       [2.08805844e-01, 7.91194201e-01],\n",
       "       [1.74853221e-01, 8.25146794e-01],\n",
       "       [9.99998927e-01, 1.07639926e-06],\n",
       "       [4.25669432e-01, 5.74330568e-01],\n",
       "       [9.99992490e-01, 7.46072101e-06],\n",
       "       [3.44691455e-01, 6.55308485e-01],\n",
       "       [3.79561663e-01, 6.20438337e-01],\n",
       "       [9.97755110e-01, 2.24496168e-03],\n",
       "       [6.43618703e-01, 3.56381357e-01],\n",
       "       [9.99220967e-01, 7.78993708e-04],\n",
       "       [1.81272268e-01, 8.18727732e-01],\n",
       "       [2.12831751e-01, 7.87168264e-01],\n",
       "       [2.45111451e-01, 7.54888535e-01],\n",
       "       [1.28064081e-01, 8.71935964e-01],\n",
       "       [8.68383110e-01, 1.31616846e-01],\n",
       "       [9.97321784e-01, 2.67825508e-03],\n",
       "       [1.00000000e+00, 2.62246518e-12],\n",
       "       [6.48839891e-01, 3.51160139e-01],\n",
       "       [9.99656439e-01, 3.43591935e-04],\n",
       "       [1.67989448e-01, 8.32010508e-01],\n",
       "       [9.99798954e-01, 2.01030620e-04],\n",
       "       [9.36026335e-01, 6.39737323e-02],\n",
       "       [9.99680638e-01, 3.19383194e-04],\n",
       "       [8.36749434e-01, 1.63250580e-01],\n",
       "       [9.99997020e-01, 2.99516660e-06],\n",
       "       [9.63049054e-01, 3.69509198e-02],\n",
       "       [9.99942660e-01, 5.73815814e-05],\n",
       "       [9.99861360e-02, 9.00013864e-01],\n",
       "       [9.99967337e-01, 3.26273803e-05],\n",
       "       [9.99984860e-01, 1.51001605e-05],\n",
       "       [9.99995232e-01, 4.79522714e-06],\n",
       "       [9.99998212e-01, 1.79489507e-06],\n",
       "       [1.86672062e-01, 8.13327909e-01],\n",
       "       [9.99968886e-01, 3.10675860e-05],\n",
       "       [1.97189674e-01, 8.02810311e-01],\n",
       "       [9.96372700e-01, 3.62728373e-03],\n",
       "       [9.99291539e-01, 7.08466570e-04],\n",
       "       [9.99999881e-01, 7.24721474e-08],\n",
       "       [9.78814065e-01, 2.11859029e-02],\n",
       "       [9.99305725e-01, 6.94245624e-04],\n",
       "       [9.95312691e-01, 4.68725152e-03],\n",
       "       [9.95814145e-01, 4.18583583e-03],\n",
       "       [9.92991775e-02, 9.00700867e-01],\n",
       "       [9.95593369e-01, 4.40664170e-03],\n",
       "       [1.77645862e-01, 8.22354078e-01],\n",
       "       [3.41565371e-01, 6.58434689e-01],\n",
       "       [9.99970675e-01, 2.93360918e-05],\n",
       "       [5.30662894e-01, 4.69337016e-01],\n",
       "       [1.62551254e-01, 8.37448716e-01],\n",
       "       [9.91728723e-01, 8.27129278e-03],\n",
       "       [9.87987638e-01, 1.20123522e-02],\n",
       "       [9.99960899e-01, 3.90732275e-05],\n",
       "       [6.87214851e-01, 3.12785178e-01],\n",
       "       [9.99470055e-01, 5.29910903e-04],\n",
       "       [1.42550498e-01, 8.57449532e-01],\n",
       "       [9.91408288e-01, 8.59173853e-03],\n",
       "       [9.90436137e-01, 9.56388842e-03],\n",
       "       [9.95956123e-01, 4.04383289e-03],\n",
       "       [3.74404788e-01, 6.25595152e-01],\n",
       "       [9.98508871e-01, 1.49114593e-03],\n",
       "       [1.94920078e-01, 8.05079877e-01],\n",
       "       [9.99894738e-01, 1.05290026e-04],\n",
       "       [1.00680500e-01, 8.99319530e-01],\n",
       "       [1.68644249e-01, 8.31355751e-01],\n",
       "       [8.71932983e-01, 1.28067032e-01],\n",
       "       [2.26753309e-01, 7.73246646e-01],\n",
       "       [8.63480449e-01, 1.36519521e-01],\n",
       "       [9.99995112e-01, 4.82985934e-06],\n",
       "       [9.99999881e-01, 8.86072797e-08],\n",
       "       [6.35633409e-01, 3.64366591e-01],\n",
       "       [9.99218106e-01, 7.81840121e-04],\n",
       "       [9.99131501e-01, 8.68537812e-04],\n",
       "       [1.00000000e+00, 5.69308767e-10],\n",
       "       [7.57749826e-02, 9.24224973e-01],\n",
       "       [9.99853253e-01, 1.46731792e-04],\n",
       "       [9.99999523e-01, 4.80339679e-07],\n",
       "       [9.99990106e-01, 9.85168936e-06],\n",
       "       [9.99685168e-01, 3.14835721e-04],\n",
       "       [9.29198042e-02, 9.07080233e-01],\n",
       "       [9.98922065e-02, 9.00107801e-01],\n",
       "       [9.99714553e-01, 2.85443093e-04],\n",
       "       [9.89481568e-01, 1.05184810e-02],\n",
       "       [5.94980955e-01, 4.05019015e-01],\n",
       "       [8.43464434e-01, 1.56535551e-01],\n",
       "       [9.94848132e-01, 5.15186042e-03],\n",
       "       [9.97632384e-01, 2.36754701e-03],\n",
       "       [9.99349654e-01, 6.50347793e-04],\n",
       "       [9.99994040e-01, 5.97418421e-06],\n",
       "       [9.25408721e-01, 7.45912790e-02],\n",
       "       [9.96910393e-01, 3.08962748e-03],\n",
       "       [4.10463184e-01, 5.89536846e-01],\n",
       "       [4.82076675e-01, 5.17923355e-01],\n",
       "       [2.82947093e-01, 7.17052877e-01],\n",
       "       [9.98340607e-01, 1.65938621e-03],\n",
       "       [2.00057417e-01, 7.99942553e-01],\n",
       "       [9.99282062e-01, 7.17999763e-04],\n",
       "       [9.97550428e-01, 2.44960119e-03],\n",
       "       [9.98711228e-01, 1.28872541e-03],\n",
       "       [8.03797603e-01, 1.96202397e-01],\n",
       "       [1.94421802e-02, 9.80557799e-01],\n",
       "       [3.99828434e-01, 6.00171626e-01]], dtype=float32)"
      ]
     },
     "execution_count": 25,
     "metadata": {},
     "output_type": "execute_result"
    }
   ],
   "source": [
    "y_pred "
   ]
  },
  {
   "cell_type": "code",
   "execution_count": 26,
   "id": "13ac0b5e",
   "metadata": {},
   "outputs": [],
   "source": [
    "import numpy as np\n",
    "y_pred = np.argmax(y_pred, axis=1)"
   ]
  },
  {
   "cell_type": "code",
   "execution_count": 27,
   "id": "3efcc14e",
   "metadata": {},
   "outputs": [
    {
     "data": {
      "text/plain": [
       "array([1, 0, 0, 1, 0, 1, 1, 0, 0, 1, 0, 0, 0, 0, 0, 0, 0, 1, 0, 1, 1, 0,\n",
       "       1, 1, 0, 1, 0, 0, 0, 0, 0, 1, 0, 1, 1, 0, 1, 0, 1, 1, 0, 0, 0, 1,\n",
       "       1, 1, 1, 0, 0, 0, 0, 0, 1, 0, 0, 0, 0, 0, 0, 0, 1, 0, 0, 0, 0, 1,\n",
       "       0, 1, 0, 0, 0, 0, 0, 0, 0, 1, 0, 1, 1, 0, 0, 1, 0, 0, 0, 0, 0, 1,\n",
       "       0, 0, 0, 1, 0, 1, 0, 1, 1, 0, 1, 0, 0, 0, 0, 0, 0, 0, 1, 0, 0, 0,\n",
       "       0, 1, 1, 0, 0, 0, 0, 0, 0, 0, 0, 0, 0, 1, 1, 1, 0, 1, 0, 0, 0, 0,\n",
       "       1, 1], dtype=int64)"
      ]
     },
     "execution_count": 27,
     "metadata": {},
     "output_type": "execute_result"
    }
   ],
   "source": [
    "y_pred "
   ]
  },
  {
   "cell_type": "code",
   "execution_count": 28,
   "id": "70f89aa9",
   "metadata": {},
   "outputs": [],
   "source": [
    "from tensorflow.keras.models import load_model\n",
    "from tensorflow.keras.preprocessing import image"
   ]
  },
  {
   "cell_type": "code",
   "execution_count": 29,
   "id": "0eb7d093",
   "metadata": {},
   "outputs": [],
   "source": [
    "model=load_model('model_vgg19.h5')\n"
   ]
  },
  {
   "cell_type": "code",
   "execution_count": 30,
   "id": "23ffb0ed",
   "metadata": {},
   "outputs": [],
   "source": [
    "img=image.load_img('Dataset/Test/Uninfected/2.png',target_size=(224,224))"
   ]
  },
  {
   "cell_type": "code",
   "execution_count": 31,
   "id": "3a93a791",
   "metadata": {},
   "outputs": [
    {
     "data": {
      "text/plain": [
       "array([[[0., 0., 0.],\n",
       "        [0., 0., 0.],\n",
       "        [0., 0., 0.],\n",
       "        ...,\n",
       "        [0., 0., 0.],\n",
       "        [0., 0., 0.],\n",
       "        [0., 0., 0.]],\n",
       "\n",
       "       [[0., 0., 0.],\n",
       "        [0., 0., 0.],\n",
       "        [0., 0., 0.],\n",
       "        ...,\n",
       "        [0., 0., 0.],\n",
       "        [0., 0., 0.],\n",
       "        [0., 0., 0.]],\n",
       "\n",
       "       [[0., 0., 0.],\n",
       "        [0., 0., 0.],\n",
       "        [0., 0., 0.],\n",
       "        ...,\n",
       "        [0., 0., 0.],\n",
       "        [0., 0., 0.],\n",
       "        [0., 0., 0.]],\n",
       "\n",
       "       ...,\n",
       "\n",
       "       [[0., 0., 0.],\n",
       "        [0., 0., 0.],\n",
       "        [0., 0., 0.],\n",
       "        ...,\n",
       "        [0., 0., 0.],\n",
       "        [0., 0., 0.],\n",
       "        [0., 0., 0.]],\n",
       "\n",
       "       [[0., 0., 0.],\n",
       "        [0., 0., 0.],\n",
       "        [0., 0., 0.],\n",
       "        ...,\n",
       "        [0., 0., 0.],\n",
       "        [0., 0., 0.],\n",
       "        [0., 0., 0.]],\n",
       "\n",
       "       [[0., 0., 0.],\n",
       "        [0., 0., 0.],\n",
       "        [0., 0., 0.],\n",
       "        ...,\n",
       "        [0., 0., 0.],\n",
       "        [0., 0., 0.],\n",
       "        [0., 0., 0.]]], dtype=float32)"
      ]
     },
     "execution_count": 31,
     "metadata": {},
     "output_type": "execute_result"
    }
   ],
   "source": [
    "x=image.img_to_array(img)\n",
    "x"
   ]
  },
  {
   "cell_type": "code",
   "execution_count": 32,
   "id": "94b1ccae",
   "metadata": {},
   "outputs": [
    {
     "data": {
      "text/plain": [
       "(224, 224, 3)"
      ]
     },
     "execution_count": 32,
     "metadata": {},
     "output_type": "execute_result"
    }
   ],
   "source": [
    "x.shape"
   ]
  },
  {
   "cell_type": "code",
   "execution_count": 33,
   "id": "82cbd6e1",
   "metadata": {},
   "outputs": [],
   "source": [
    "x=x/255"
   ]
  },
  {
   "cell_type": "code",
   "execution_count": 34,
   "id": "c6ffa719",
   "metadata": {},
   "outputs": [
    {
     "data": {
      "text/plain": [
       "(1, 224, 224, 3)"
      ]
     },
     "execution_count": 34,
     "metadata": {},
     "output_type": "execute_result"
    }
   ],
   "source": [
    "x=np.expand_dims(x,axis=0)\n",
    "img_data=preprocess_input(x)\n",
    "img_data.shape"
   ]
  },
  {
   "cell_type": "code",
   "execution_count": 35,
   "id": "23531995",
   "metadata": {},
   "outputs": [
    {
     "data": {
      "text/plain": [
       "array([[1., 0.]], dtype=float32)"
      ]
     },
     "execution_count": 35,
     "metadata": {},
     "output_type": "execute_result"
    }
   ],
   "source": [
    "model.predict(img_data)"
   ]
  },
  {
   "cell_type": "code",
   "execution_count": 36,
   "id": "fe12895b",
   "metadata": {},
   "outputs": [],
   "source": [
    "a=np.argmax(model.predict(img_data), axis=1)"
   ]
  },
  {
   "cell_type": "code",
   "execution_count": 37,
   "id": "83a8380e",
   "metadata": {},
   "outputs": [
    {
     "name": "stdout",
     "output_type": "stream",
     "text": [
      "Infected\n"
     ]
    }
   ],
   "source": [
    "if(a==1):\n",
    "    print(\"Uninfected\")\n",
    "else:\n",
    "    print(\"Infected\") "
   ]
  },
  {
   "cell_type": "code",
   "execution_count": null,
   "id": "f8c9b169",
   "metadata": {},
   "outputs": [],
   "source": []
  }
 ],
 "metadata": {
  "kernelspec": {
   "display_name": "Python 3",
   "language": "python",
   "name": "python3"
  },
  "language_info": {
   "codemirror_mode": {
    "name": "ipython",
    "version": 3
   },
   "file_extension": ".py",
   "mimetype": "text/x-python",
   "name": "python",
   "nbconvert_exporter": "python",
   "pygments_lexer": "ipython3",
   "version": "3.8.8"
  }
 },
 "nbformat": 4,
 "nbformat_minor": 5
}
